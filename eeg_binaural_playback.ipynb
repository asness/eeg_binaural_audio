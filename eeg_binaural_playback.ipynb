{
  "nbformat": 4,
  "nbformat_minor": 0,
  "metadata": {
    "colab": {
      "provenance": [],
      "toc_visible": true,
      "include_colab_link": true
    },
    "kernelspec": {
      "name": "python3",
      "display_name": "Python 3"
    },
    "language_info": {
      "name": "python"
    }
  },
  "cells": [
    {
      "cell_type": "markdown",
      "metadata": {
        "id": "view-in-github",
        "colab_type": "text"
      },
      "source": [
        "<a href=\"https://colab.research.google.com/github/asness/eeg_binaural_audio/blob/main/eeg_binaural_playback.ipynb\" target=\"_parent\"><img src=\"https://colab.research.google.com/assets/colab-badge.svg\" alt=\"Open In Colab\"/></a>"
      ]
    },
    {
      "cell_type": "markdown",
      "source": [
        "# EEG binaural playback\n",
        "\n",
        "**Note:** those reading this memo in GitHub won't be able to play back audio from the notebook.\n",
        "Consider opening the Colab link instead (click on the icon above)."
      ],
      "metadata": {
        "id": "wd1nfLrEvpHf"
      }
    },
    {
      "cell_type": "markdown",
      "source": [
        "## Introduction\n",
        "\n",
        "I've developed a simple technique for EEG recording playback using standard audio formats and headphones.\n",
        "The technique allows the listener to directly experience brainwave vibrations produced by the recording subject.\n",
        "\n",
        "In [an earlier memo](https://colab.research.google.com/drive/1L257lskHTJWURUo5REpsoDps5uFXChWT), I shared just two recordings: a short test tone and a fifteen-minute-long personal recording of *samatha* meditation practice.\n",
        "This new memo includes eight test recordings and nine meditation recordings: in total, roughly an hour of content.\n",
        "The tests use synthesized patterns familiar from audio testing: sine tones and sweeps, waveforms with different harmonic content, white noise, and so on.\n",
        "These elementary structures are useful to calibrate playback and to get a feel for the medium.\n",
        "The meditation recordings are mostly from a publically-available EEG database compiled by Jacob H. Young;\n",
        "I also include a couple excerpts from my own practice.\n",
        "I curated these recordings to highlight the variety of brainwave patterns possible in meditation.\n",
        "\n",
        "Rather than writing more about my listening experiences, I prefer to let the recordings speak for themselves, to leave a large space for the subjective experience of other listeners, and to encourage a direct conversation between us.\n"
      ],
      "metadata": {
        "id": "LzylHbb21Mdn"
      }
    },
    {
      "cell_type": "markdown",
      "source": [
        "## Technical overview\n",
        "\n",
        "The basic idea of this EEG recording playback technique is simple: encode each channel of EEG data as [amplitude-modulated](https://en.wikipedia.org/wiki/Amplitude_modulation) [binaural beats](https://en.wikipedia.org/wiki/Beat_(acoustics)#Binaural_beats) in an audio file.\n",
        "Single-frequency binaural beats are common, but to my knowledge this is the first example of using amplitude modulation to create binaural beating sidebands.\n",
        "By using a high sine tone as the AM carrier frequency, we can remove the distraction of the audible signal component from the playback, leaving primarily the felt sensation of the binaural beats.\n",
        "\n",
        "For example, suppose I have an EEG recording of a pure 1 Hz sine tone (indeed, this is one of the test recordings included below).\n",
        "Using a 15 kHz carrier tone, we encode the 1 Hz tone as AM sidebands at 14999 Hz and 15001 Hz.\n",
        "Playback of these sidebands in one ear against a 15 kHz tone in another ear produces a felt (not heard) binaural beating sensation at 1 Hz---the original EEG frequency.\n",
        "Note that binaurality is an essential ingredient here: this technique will fail with monaural beats, because monaural beats are heard and not felt, and the EEG frequencies we want to reproduce are generally below the range of human hearing.\n",
        "Remarkably (by the magic of linearity and applied Fourier analysis), this basic idea still works for arbitrarily complicated EEG recordings, which are simply the sum of their many frequency components.\n",
        "\n",
        "Those interested in implementation details may take a look at the Python code in this [Colaboratory notebook](https://colab.research.google.com/drive/1Zjp1DwFqI9YHgIxwch-o2p_zileVPrHe?usp=sharing).\n",
        "\n",
        "The audio files below are uncompressed WAVs.\n",
        "I tried using MP3s, but psychoacoustic compression degrades the effect of binaural beats encoded at high frequencies."
      ],
      "metadata": {
        "id": "UM7qdUQoYNnM"
      }
    },
    {
      "cell_type": "markdown",
      "source": [
        "## Listening setup\n",
        "\n",
        "- I recommend listening with headphones.\n",
        "- Start with the volume turned down all the way, then gently turn it up until you feel binaural beats.\n",
        "  - All of the recordings use 15 kHz+ carrier tones, which sound like an old cathode-ray tube TV buzz.\n",
        "  If this buzz is uncomfortably loud, then the volume is too high.\n",
        "  - Even if 15 kHz is out of your hearing range, you still may be able to feel the binaural beats.\n",
        "- The effect of the recording is more intense with the eyes closed.\n",
        "  To moderate the effect, keep your eyes open."
      ],
      "metadata": {
        "id": "lPcc-4DXDV11"
      }
    },
    {
      "cell_type": "markdown",
      "source": [
        "## Safety\n",
        "\n",
        "The mechanism for binaural beating (and, by extension, these recordings) is not well understood, but it likely involves brainwave entrainment (i.e. synchronization to external stimulus).\n",
        "In my experience, exposure to binaural beats can induce altered states of consciousness similar to those experienced in meditation or hypnosis, involving, for example, quieting of internal discursive thought, increased light sensitivity, and absorption in visual phenomena.\n",
        "For me, these altered states are generally benign, but may be intense or disturbing.\n",
        "Thus, I would advise listeners to take the same precautions with these recordings that they would take for any mind-altering substance or practice, including deep meditation.\n",
        "In particular, don't listen to these recordings while doing something dangerous that requires your full attention, such as driving.\n",
        "\n",
        "I also recommend setting aside some a few minutes after listening to let your brain and body digest the experience."
      ],
      "metadata": {
        "id": "Q1XmZbAAdCMB"
      }
    },
    {
      "cell_type": "markdown",
      "source": [
        "## Synthetic test recordings\n"
      ],
      "metadata": {
        "id": "Krfqrr9m_OXh"
      }
    },
    {
      "cell_type": "markdown",
      "source": [
        "\n",
        "### Notes\n",
        "\n",
        "- Notebook: [make-brainflow-test-data.ipynb](https://colab.research.google.com/drive/1v0T2grqyIEFVu-0wQt5Gq9HDAJ4BcDm8?usp=drive_link)\n",
        "- Files: [test file directory link](https://drive.google.com/drive/folders/1yAqJXE79vuLLIKNOXC0cGmBhu-y4-Uci?usp=drive_link)"
      ],
      "metadata": {
        "id": "cQeb47vKIrs5"
      }
    },
    {
      "cell_type": "markdown",
      "source": [
        "### Continuous 1 Hz sine wave\n",
        "\n",
        "\n",
        "<audio controls=true src=\"https://drive.google.com/uc?export=download&id=1hgoJz97yMWJVT-mVV_97Dbo35mtWvTC2\" type=\"audio/wav\" />\n",
        "\n",
        "\n"
      ],
      "metadata": {
        "id": "V7CWJ2KmDJfP"
      }
    },
    {
      "cell_type": "markdown",
      "source": [
        "### Pulsed 1 Hz sine wave\n",
        "\n",
        "<audio controls=true src=\"https://drive.google.com/uc?export=download&id=1hOT-nl-7iMp8RB_3ihut6uTGUd4IU4xs\" type=\"audio/wav\"/>\n"
      ],
      "metadata": {
        "id": "gZ3gxOlwDSk7"
      }
    },
    {
      "cell_type": "markdown",
      "source": [
        "### Inverted 1 Hz sine waves (phase cancellation)\n",
        "\n",
        "<audio controls=true src=\"https://drive.google.com/uc?export=download&id=1hgoJz97yMWJVT-mVV_97Dbo35mtWvTC2\" type=\"audio/wav\"/>\n"
      ],
      "metadata": {
        "id": "7RwK_FeEASCz"
      }
    },
    {
      "cell_type": "markdown",
      "source": [
        "### Sine wave sweep, 1 Hz -- 16 Hz\n",
        "\n",
        "<audio controls=true src=\"https://drive.google.com/uc?export=download&id=1j9-W5XVcUbmIZDnXThJehtpO0xctmM1f\" type=\"audio/wav\"/>\n"
      ],
      "metadata": {
        "id": "CNzW2pIhEEhc"
      }
    },
    {
      "cell_type": "markdown",
      "source": [
        "### White noise\n",
        "\n",
        "<audio controls=true src=\"https://drive.google.com/uc?export=download&id=1jPrjBRMWJE7Q3iFoq-DLSpToRVklTxKL\" type=\"audio/wav\"/>\n"
      ],
      "metadata": {
        "id": "yDu5i_RlEc4Y"
      }
    },
    {
      "cell_type": "markdown",
      "source": [
        "### Waveforms: sine, square, sawtooth, white noise\n",
        "\n",
        "<audio controls=true src=\"https://drive.google.com/uc?export=download&id=1jEz64J81NK3Lezzyl8fs1e4BE1veBAE8\" type=\"audio/wav\"/>\n"
      ],
      "metadata": {
        "id": "zQmw3UBjEvsP"
      }
    },
    {
      "cell_type": "markdown",
      "source": [
        "### Continuous infraslow sine wave (0.02 Hz)\n",
        "\n",
        "<audio controls=true src=\"https://drive.google.com/uc?export=download&id=1gwIwoiYlHEFswiSlQhV4lxcUyIArH9f4\" type=\"audio/wav\"/>\n",
        "\n"
      ],
      "metadata": {
        "id": "mdFCuY-qFQun"
      }
    },
    {
      "cell_type": "markdown",
      "source": [
        "### Seventh chord (4:5:6:7 ratio, 1 Hz root)\n",
        "\n",
        "<audio controls=true src=\"https://drive.google.com/uc?export=download&id=1i3WPRdIYS2b3UkwBDldtWoV3YPeUGyjS\" type=\"audio/wav\"/>\n"
      ],
      "metadata": {
        "id": "zv0EAqUoFpMY"
      }
    },
    {
      "cell_type": "markdown",
      "source": [
        "## Meditation recordings"
      ],
      "metadata": {
        "id": "QuWVy5ne_RJi"
      }
    },
    {
      "cell_type": "markdown",
      "source": [
        "### Jacob H. Young dataset\n"
      ],
      "metadata": {
        "id": "_yu2Otq_G_87"
      }
    },
    {
      "cell_type": "markdown",
      "source": [
        "#### Sources\n",
        "\n",
        "- Dataset: [GitHub link](https://github.com/JacobHYoung/Contrasting-EEG-Derived-Entropy-and-Neural-Oscillations-During-Six-Meditation-Practices)\n",
        "- Article: [Contrasting Electroencephalography-Derived Entropy and Neural Oscillations With Highly Skilled Meditators](https://pmc.ncbi.nlm.nih.gov/articles/PMC8119624/)\n",
        "- Recordings: [Google Drive link](https://drive.google.com/drive/folders/1kdfJQrYdGT6vU19il7_ne5cAtKYmS5iI?usp=sharing)"
      ],
      "metadata": {
        "id": "WSfxuil4JmFi"
      }
    },
    {
      "cell_type": "markdown",
      "source": [
        "#### Technical notes\n",
        "\n",
        "The original EEG recordings are roughly ten minutes long.\n",
        "These binaural playback recordings are five-minute excerpts, extracted from the middle of each source recording."
      ],
      "metadata": {
        "id": "UAotGMI2JnPh"
      }
    },
    {
      "cell_type": "markdown",
      "source": [
        "#### Anapana meditator 30\n",
        "\n",
        "<audio controls=true src=\"https://drive.google.com/uc?export=download&id=1mBumu3ncJq23YAZsQprCJiZ6igrLWz0n\" type=\"audio/wav\"/>"
      ],
      "metadata": {
        "id": "Xu3J9CeT2K1W"
      }
    },
    {
      "cell_type": "markdown",
      "source": [
        "#### Dzogchen meditator 15\n",
        "\n",
        "<audio controls=true src=\"https://drive.google.com/uc?export=download&id=1lMUusYNSGVYSfywoRJzNZLbJrK45fHLq\" type=\"audio/wav\"/>"
      ],
      "metadata": {
        "id": "rWmLh8yn2RQG"
      }
    },
    {
      "cell_type": "markdown",
      "source": [
        "#### Shamata meditator 23\n",
        "\n",
        "<audio controls=true src=\"https://drive.google.com/uc?export=download&id=1nJfGY4W62dXc4XRraUr6yLmrVdNCz1Uk\" type=\"audio/wav\"/>"
      ],
      "metadata": {
        "id": "wV0hMRm62TLg"
      }
    },
    {
      "cell_type": "markdown",
      "source": [
        "#### Tanglen meditator 21\n",
        "\n",
        "<audio controls=true src=\"https://drive.google.com/uc?export=download&id=1oN40urk8VincwP6L4GQ4lwUrCh7JtoCk\" type=\"audio/wav\"/>"
      ],
      "metadata": {
        "id": "-0GN1UHk2XOx"
      }
    },
    {
      "cell_type": "markdown",
      "source": [
        "#### Vipassana meditator 38\n",
        "\n",
        "<audio controls=true src=\"https://drive.google.com/uc?export=download&id=1pxVQYMRcAn1_iWunqrRr2CY4BBawWlOS\" type=\"audio/wav\"/>"
      ],
      "metadata": {
        "id": "Nv925fLR2ZrG"
      }
    },
    {
      "cell_type": "markdown",
      "source": [
        "#### Visualization meditator 27\n",
        "\n",
        "<audio controls=true src=\"https://drive.google.com/uc?export=download&id=1piyN5Jmtd3k1tbCfJJkg2kJYLGvbohJP\" type=\"audio/wav\"/>"
      ],
      "metadata": {
        "id": "1ilt_ZTT3LxF"
      }
    },
    {
      "cell_type": "markdown",
      "source": [
        "#### Zen meditator 2\n",
        "\n",
        "<audio controls=true src=\"https://drive.google.com/uc?export=download&id=1l2qi4ut4PXCnAlXJxJoqsNU5KizmNdiD\" type=\"audio/wav\"/>"
      ],
      "metadata": {
        "id": "b3qa5Y712d4-"
      }
    },
    {
      "cell_type": "markdown",
      "source": [
        "### Alex Ness personal recordings"
      ],
      "metadata": {
        "id": "fuNBRK7_G7TV"
      }
    },
    {
      "cell_type": "markdown",
      "source": [
        "#### Sources\n",
        "\n",
        "- Data: [Google Drive link](https://drive.google.com/drive/folders/1abjffPJbRMMqNRI9Y9LUJwTbpAJ887aR?usp=drive_link)\n",
        "- Recordings: [Google Drive link](https://drive.google.com/drive/folders/1004zGr4dZWhY7g7w6DfxNotyAq6EE9en?usp=drive_link)"
      ],
      "metadata": {
        "id": "CI-BYgeE71SW"
      }
    },
    {
      "cell_type": "markdown",
      "source": [
        "#### Technical notes\n",
        "\n",
        "- Recorded with an OpenBCI Ganglion"
      ],
      "metadata": {
        "id": "uKSVDZ8M728C"
      }
    },
    {
      "cell_type": "markdown",
      "source": [
        "#### 2025-05-15 practice: 1 Hz resonance in posterior temporal lobe\n",
        "\n",
        "<audio controls=true src=\"https://drive.google.com/uc?export=download&id=112CRKanJFPSytflrygsEHgvoEK7IOlmQ\" type=\"audio/wav\"/>"
      ],
      "metadata": {
        "id": "fC8xEYoN6Qs4"
      }
    },
    {
      "cell_type": "markdown",
      "source": [
        "#### 2025-05-15 practice: infraslow oscillation in posterior temporal lobe\n",
        "\n",
        "<audio controls=true src=\"https://drive.google.com/uc?export=download&id=132gEjQYB0hv1FsC3IzJA1zjVsxVpp7-D\" type=\"audio/wav\"/>"
      ],
      "metadata": {
        "id": "BcJFSdBX6BOW"
      }
    },
    {
      "cell_type": "markdown",
      "source": [
        "## Document status\n",
        "\n",
        "- 2025-05-30: completed a draft and uploaded to GitHub\n"
      ],
      "metadata": {
        "id": "3owxjE9Q_IW9"
      }
    }
  ]
}